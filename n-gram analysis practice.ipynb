{
 "cells": [
  {
   "cell_type": "code",
   "execution_count": 12,
   "metadata": {
    "collapsed": false
   },
   "outputs": [
    {
     "data": {
      "text/plain": [
       "[(('Albert', 'saying'), 1),\n",
       " (('But', 'time'), 1),\n",
       " (('Cristo', 'wonder'), 1),\n",
       " (('Monte', 'Cristo'), 1),\n",
       " (('Morrel', 'looked'), 1),\n",
       " (('This', 'exclamation'), 1),\n",
       " (('corresponded', 'count’s'), 1),\n",
       " (('count’s', 'thought'), 1),\n",
       " (('especially', 'Morrel'), 1),\n",
       " (('everybody', 'especially'), 1),\n",
       " (('exclamation', 'corresponded'), 1),\n",
       " (('however', 'strange'), 1),\n",
       " (('impossible', 'offended'), 1),\n",
       " (('intonation', 'soft'), 1),\n",
       " (('looked', 'Monte'), 1),\n",
       " (('might', 'seem'), 1),\n",
       " (('rather', 'Albert'), 1),\n",
       " (('saying', 'surprised'), 1),\n",
       " (('seem', 'impossible'), 1),\n",
       " (('soft', 'however'), 1),\n",
       " (('speech', 'might'), 1),\n",
       " (('strange', 'speech'), 1),\n",
       " (('surprised', 'everybody'), 1),\n",
       " (('thought', 'rather'), 1),\n",
       " (('time', 'intonation'), 1),\n",
       " (('wonder', 'But'), 1)]"
      ]
     },
     "execution_count": 12,
     "metadata": {},
     "output_type": "execute_result"
    }
   ],
   "source": [
    "#Import nltk libs\n",
    "import nltk\n",
    "from nltk.tokenize import word_tokenize, sent_tokenize\n",
    "from nltk.corpus import stopwords\n",
    "from string import punctuation\n",
    "from nltk.collocations import *\n",
    "\n",
    "#initialize variables\n",
    "\n",
    "gmText = '''This exclamation, which corresponded to the count’s own thought rather\n",
    "than to what Albert was saying, surprised everybody, and especially\n",
    "Morrel, who looked at Monte Cristo with wonder. But, at the same time,\n",
    "the intonation was so soft that, however strange the speech might seem,\n",
    "it was impossible to be offended at it.'''\n",
    "\n",
    "gmSent = sent_tokenize(gmText)\n",
    "gmWord = word_tokenize(gmText)\n",
    "\n",
    "#filter punctuation and stopwords\n",
    "\n",
    "gmFilters = set(stopwords.words('english')+list(punctuation))\n",
    "gmFilteredText = [gmWord for gmWord in word_tokenize(gmText) if gmWord not in gmFilters]\n",
    "\n",
    "#Bigram Analysis : co-occurance of words together less than three times\n",
    "gmBigramColloc = nltk.collocations.BigramAssocMeasures()\n",
    "gmFinder = BigramCollocationFinder.from_words(gmFilteredText)\n",
    "sorted(gmFinder.ngram_fd.items())"
   ]
  },
  {
   "cell_type": "code",
   "execution_count": null,
   "metadata": {
    "collapsed": true
   },
   "outputs": [],
   "source": []
  }
 ],
 "metadata": {
  "kernelspec": {
   "display_name": "Python 3",
   "language": "python",
   "name": "python3"
  },
  "language_info": {
   "codemirror_mode": {
    "name": "ipython",
    "version": 3
   },
   "file_extension": ".py",
   "mimetype": "text/x-python",
   "name": "python",
   "nbconvert_exporter": "python",
   "pygments_lexer": "ipython3",
   "version": "3.6.0"
  }
 },
 "nbformat": 4,
 "nbformat_minor": 2
}
