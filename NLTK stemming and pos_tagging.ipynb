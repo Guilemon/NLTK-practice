{
 "cells": [
  {
   "cell_type": "code",
   "execution_count": 20,
   "metadata": {
    "collapsed": false
   },
   "outputs": [
    {
     "name": "stdout",
     "output_type": "stream",
     "text": [
      "['pet', 'pip', 'pick', 'a', 'peck', 'of', 'pickl', 'pep', '.', 'a', 'peck', 'of', 'pickl', 'pep', 'pet', 'pip', 'pick', '.', 'if', 'pet', 'pip', 'pick', 'a', 'peck', 'of', 'pickl', 'pep', ',', 'wher', \"'s\", 'the', 'peck', 'of', 'pickl', 'pep', 'pet', 'pip', 'pick', '?']\n"
     ]
    }
   ],
   "source": [
    "import nltk\n",
    "from nltk.tokenize import word_tokenize\n",
    "from nltk.collocations import *\n",
    "from nltk.stem.lancaster import LancasterStemmer #using Lancaster stemmer Algorithm\n",
    "\n",
    "gmText = '''Peter Piper picked a peck of pickled peppers.\n",
    "A peck of pickled peppers Peter Piper picked.\n",
    "If Peter Piper picked a peck of pickled peppers,\n",
    "Where's the peck of pickled peppers Peter Piper picked?'''\n",
    "\n",
    "gmToken = word_tokenize(gmText)\n",
    "gmFinder = BigramCollocationFinder.from_words(gmToken)\n",
    "sorted(gmFinder.ngram_fd.items())\n",
    "# print(gmToken)\n",
    "gmST = LancasterStemmer() #instantiate lancaster stemmer\n",
    "gmStemmedWords = [gmST.stem(gmWord) for gmWord in word_tokenize(gmText)]\n",
    "\n",
    "print(gmStemmedWords)"
   ]
  },
  {
   "cell_type": "code",
   "execution_count": 21,
   "metadata": {
    "collapsed": false
   },
   "outputs": [
    {
     "data": {
      "text/plain": [
       "[('Peter', 'NNP'),\n",
       " ('Piper', 'NNP'),\n",
       " ('picked', 'VBD'),\n",
       " ('a', 'DT'),\n",
       " ('peck', 'NN'),\n",
       " ('of', 'IN'),\n",
       " ('pickled', 'JJ'),\n",
       " ('peppers', 'NNS'),\n",
       " ('.', '.'),\n",
       " ('A', 'DT'),\n",
       " ('peck', 'NN'),\n",
       " ('of', 'IN'),\n",
       " ('pickled', 'JJ'),\n",
       " ('peppers', 'NNS'),\n",
       " ('Peter', 'NNP'),\n",
       " ('Piper', 'NNP'),\n",
       " ('picked', 'VBD'),\n",
       " ('.', '.'),\n",
       " ('If', 'IN'),\n",
       " ('Peter', 'NNP'),\n",
       " ('Piper', 'NNP'),\n",
       " ('picked', 'VBD'),\n",
       " ('a', 'DT'),\n",
       " ('peck', 'NN'),\n",
       " ('of', 'IN'),\n",
       " ('pickled', 'JJ'),\n",
       " ('peppers', 'NNS'),\n",
       " (',', ','),\n",
       " ('Where', 'NNP'),\n",
       " (\"'s\", 'POS'),\n",
       " ('the', 'DT'),\n",
       " ('peck', 'NN'),\n",
       " ('of', 'IN'),\n",
       " ('pickled', 'JJ'),\n",
       " ('peppers', 'NNS'),\n",
       " ('Peter', 'NNP'),\n",
       " ('Piper', 'NNP'),\n",
       " ('picked', 'VBD'),\n",
       " ('?', '.')]"
      ]
     },
     "execution_count": 21,
     "metadata": {},
     "output_type": "execute_result"
    }
   ],
   "source": [
    "nltk.pos_tag(word_tokenize(gmText))"
   ]
  },
  {
   "cell_type": "code",
   "execution_count": null,
   "metadata": {
    "collapsed": true
   },
   "outputs": [],
   "source": []
  }
 ],
 "metadata": {
  "kernelspec": {
   "display_name": "Python 3",
   "language": "python",
   "name": "python3"
  },
  "language_info": {
   "codemirror_mode": {
    "name": "ipython",
    "version": 3
   },
   "file_extension": ".py",
   "mimetype": "text/x-python",
   "name": "python",
   "nbconvert_exporter": "python",
   "pygments_lexer": "ipython3",
   "version": "3.6.0"
  }
 },
 "nbformat": 4,
 "nbformat_minor": 2
}
