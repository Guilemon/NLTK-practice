{
 "cells": [
  {
   "cell_type": "code",
   "execution_count": 10,
   "metadata": {
    "collapsed": false
   },
   "outputs": [],
   "source": [
    "import urllib.request as urllib2\n",
    "from bs4 import BeautifulSoup"
   ]
  },
  {
   "cell_type": "code",
   "execution_count": 94,
   "metadata": {
    "collapsed": false
   },
   "outputs": [
    {
     "data": {
      "text/plain": [
       "b'Guilmon is a Reptile Digimon. It has an appearance like a dinosaur that still retains its youth. Although it is still a Rookie, its potential as a \"Combat Species\", something which all Digimon naturally possess, is very high, and it hides the ferocious personality of a carnivorous beast. The mark drawn on its abdomen is called the \"Digital Hazard\", which is inscribed on those that have the potential to cause massive damage to computer data. However, as long as this ability is used peacefully, it can probably become a being that protects the Digital World.[7]\\n'"
      ]
     },
     "execution_count": 94,
     "metadata": {},
     "output_type": "execute_result"
    }
   ],
   "source": [
    "articleURL = \"http://digimon.wikia.com/wiki/Guilmon\"\n",
    "\n",
    "page = urllib2.urlopen(articleURL).read().decode('utf8','ignore')\n",
    "soup = BeautifulSoup(page,'lxml')\n",
    "gmtext = soup.find('p').text\n",
    "\n",
    "gmtext.encode('ascii',errors='replace')"
   ]
  },
  {
   "cell_type": "code",
   "execution_count": 100,
   "metadata": {
    "collapsed": false
   },
   "outputs": [],
   "source": [
    "from nltk.tokenize import word_tokenize,sent_tokenize\n",
    "from nltk.corpus import stopwords\n",
    "from string import punctuation\n",
    "\n",
    "gmtext2 = gmtext\n",
    "word_tokenize(gmtext2)\n",
    "gmFilter11 = set(stopwords.words('english')+list(punctuation))\n",
    "gmWords = [word for word in word_tokenize(gmtext2) if word not in gmFilter11]"
   ]
  },
  {
   "cell_type": "code",
   "execution_count": 132,
   "metadata": {
    "collapsed": false,
    "scrolled": true
   },
   "outputs": [
    {
     "data": {
      "text/plain": [
       "['Guilmon is a Reptile Digimon.',\n",
       " 'It has an appearance like a dinosaur that still retains its youth.',\n",
       " 'Although it is still a Rookie, its potential as a \"Combat Species\", something which all Digimon naturally possess, is very high, and it hides the ferocious personality of a carnivorous beast.',\n",
       " 'The mark drawn on its abdomen is called the \"Digital Hazard\", which is inscribed on those that have the potential to cause massive damage to computer data.',\n",
       " 'However, as long as this ability is used peacefully, it can probably become a being that protects the Digital World.',\n",
       " '[7]']"
      ]
     },
     "execution_count": 132,
     "metadata": {},
     "output_type": "execute_result"
    }
   ],
   "source": [
    "from nltk.probability import FreqDist\n",
    "from heapq import nlargest\n",
    "\n",
    "freq = FreqDist(gmWords)\n",
    "gmSent = sent_tokenize(gmtext2)\n",
    "\n",
    "nlargest(10,freq,freq.get)\n",
    "\n",
    "gmSent"
   ]
  },
  {
   "cell_type": "code",
   "execution_count": 145,
   "metadata": {
    "collapsed": false
   },
   "outputs": [
    {
     "data": {
      "text/plain": [
       "['Although it is still a Rookie, its potential as a \"Combat Species\", something which all Digimon naturally possess, is very high, and it hides the ferocious personality of a carnivorous beast.',\n",
       " 'The mark drawn on its abdomen is called the \"Digital Hazard\", which is inscribed on those that have the potential to cause massive damage to computer data.',\n",
       " 'However, as long as this ability is used peacefully, it can probably become a being that protects the Digital World.']"
      ]
     },
     "execution_count": 145,
     "metadata": {},
     "output_type": "execute_result"
    }
   ],
   "source": [
    "from collections import defaultdict\n",
    "ranking = defaultdict(int)\n",
    "\n",
    "for i,sent in enumerate(gmSent):\n",
    "     for word in word_tokenize(sent):\n",
    "        if word in freq:\n",
    "            ranking[i] += freq[word]\n",
    "            \n",
    "ranking\n",
    "\n",
    "gmSent_index = nlargest(3,ranking,ranking.get)\n",
    "\n",
    "gmSent_index\n",
    "\n",
    "[gmSent[j] for j in sorted(gmSent_index)]"
   ]
  },
  {
   "cell_type": "code",
   "execution_count": null,
   "metadata": {
    "collapsed": true
   },
   "outputs": [],
   "source": []
  }
 ],
 "metadata": {
  "kernelspec": {
   "display_name": "Python 3",
   "language": "python",
   "name": "python3"
  },
  "language_info": {
   "codemirror_mode": {
    "name": "ipython",
    "version": 3
   },
   "file_extension": ".py",
   "mimetype": "text/x-python",
   "name": "python",
   "nbconvert_exporter": "python",
   "pygments_lexer": "ipython3",
   "version": "3.6.0"
  }
 },
 "nbformat": 4,
 "nbformat_minor": 2
}
