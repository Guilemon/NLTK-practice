{
 "cells": [
  {
   "cell_type": "code",
   "execution_count": 10,
   "metadata": {
    "collapsed": false
   },
   "outputs": [],
   "source": [
    "import urllib.request as urllib2\n",
    "from bs4 import BeautifulSoup"
   ]
  },
  {
   "cell_type": "code",
   "execution_count": 73,
   "metadata": {
    "collapsed": false
   },
   "outputs": [
    {
     "data": {
      "text/plain": [
       "b'Guilmon is a Reptile Digimon. It has an appearance like a dinosaur that still retains its youth. Although it is still a Rookie, its potential as a \"Combat Species\", something which all Digimon naturally possess, is very high, and it hides the ferocious personality of a carnivorous beast. The mark drawn on its abdomen is called the \"Digital Hazard\", which is inscribed on those that have the potential to cause massive damage to computer data. However, as long as this ability is used peacefully, it can probably become a being that protects the Digital World.[7]\\n'"
      ]
     },
     "execution_count": 73,
     "metadata": {},
     "output_type": "execute_result"
    }
   ],
   "source": [
    "articleURL = \"http://digimon.wikia.com/wiki/Guilmon\"\n",
    "\n",
    "page = urllib2.urlopen(articleURL).read().decode('utf8','ignore')\n",
    "soup = BeautifulSoup(page,'lxml')\n",
    "gmtext = soup.find('p').text\n",
    "\n",
    "gmtext.encode('ascii',errors='replace')"
   ]
  },
  {
   "cell_type": "code",
   "execution_count": null,
   "metadata": {
    "collapsed": true
   },
   "outputs": [],
   "source": []
  }
 ],
 "metadata": {
  "kernelspec": {
   "display_name": "Python 3",
   "language": "python",
   "name": "python3"
  },
  "language_info": {
   "codemirror_mode": {
    "name": "ipython",
    "version": 3
   },
   "file_extension": ".py",
   "mimetype": "text/x-python",
   "name": "python",
   "nbconvert_exporter": "python",
   "pygments_lexer": "ipython3",
   "version": "3.6.0"
  }
 },
 "nbformat": 4,
 "nbformat_minor": 2
}
