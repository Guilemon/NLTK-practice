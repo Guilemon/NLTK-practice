{
 "cells": [
  {
   "cell_type": "code",
   "execution_count": 16,
   "metadata": {
    "collapsed": true
   },
   "outputs": [],
   "source": [
    "import nltk"
   ]
  },
  {
   "cell_type": "code",
   "execution_count": 6,
   "metadata": {
    "collapsed": false
   },
   "outputs": [
    {
     "name": "stdout",
     "output_type": "stream",
     "text": [
      "['There are two kinds of people in this world.', \"The kind who divide the world into two kinds of people and those who don't.\"] \n",
      "\n",
      "\n",
      "['There', 'are', 'two', 'kinds', 'of', 'people', 'in', 'this', 'world', '.', 'The', 'kind', 'who', 'divide', 'the', 'world', 'into', 'two', 'kinds', 'of', 'people', 'and', 'those', 'who', 'do', \"n't\", '.']\n"
     ]
    }
   ],
   "source": [
    "text = \"There are two kinds of people in this world. The kind who divide the world into two kinds of people and those who don't.\"\n",
    "'''\n",
    "@word_tokenize - used for tokenizing words\n",
    "@sent_tokenize - used for tokenizing sentences\n",
    "'''\n",
    "from nltk.tokenize import word_tokenize, sent_tokenize\n",
    "sents = sent_tokenize(text)\n",
    "print(sents,\"\\n\\n\") #Print tokenized sentence. \n",
    "len(sents)\n",
    "\n",
    "words = word_tokenize(text)\n",
    "print(words) #Print tokenized words"
   ]
  },
  {
   "cell_type": "code",
   "execution_count": 29,
   "metadata": {
    "collapsed": false
   },
   "outputs": [
    {
     "name": "stdout",
     "output_type": "stream",
     "text": [
      "['There', 'two', 'kinds', 'people', 'world', 'The', 'kind', 'divide', 'world', 'two', 'kinds', 'people', \"n't\"]\n"
     ]
    },
    {
     "data": {
      "text/plain": [
       "[(('The', 'kind'), 1),\n",
       " (('There', 'two'), 1),\n",
       " (('divide', 'world'), 1),\n",
       " (('kind', 'divide'), 1),\n",
       " (('kinds', 'people'), 2),\n",
       " (('people', \"n't\"), 1),\n",
       " (('people', 'world'), 1),\n",
       " (('two', 'kinds'), 2),\n",
       " (('world', 'The'), 1),\n",
       " (('world', 'two'), 1)]"
      ]
     },
     "execution_count": 29,
     "metadata": {},
     "output_type": "execute_result"
    }
   ],
   "source": [
    "from nltk.corpus import stopwords\n",
    "from string import punctuation\n",
    "from nltk.collocations import *\n",
    "\n",
    "#stopwords.words('english')+list(punctuation)\n",
    "\n",
    "gmStopWords = set(stopwords.words('english')+list(punctuation))\n",
    "\n",
    "''' Removing punctuation and stopwords from the tokenized word'''\n",
    "\n",
    "gmFilteredWords = [word for word in word_tokenize(text) if word not in gmStopWords]\n",
    "print(gmFilteredWords)\n",
    "\n",
    "gmFiltes = BigramCollocationFinder.from_words(gmFilteredWords)\n",
    "sorted(gmFiltes.ngram_fd.items())"
   ]
  },
  {
   "cell_type": "code",
   "execution_count": null,
   "metadata": {
    "collapsed": true
   },
   "outputs": [],
   "source": []
  }
 ],
 "metadata": {
  "kernelspec": {
   "display_name": "Python 3",
   "language": "python",
   "name": "python3"
  },
  "language_info": {
   "codemirror_mode": {
    "name": "ipython",
    "version": 3
   },
   "file_extension": ".py",
   "mimetype": "text/x-python",
   "name": "python",
   "nbconvert_exporter": "python",
   "pygments_lexer": "ipython3",
   "version": "3.6.0"
  }
 },
 "nbformat": 4,
 "nbformat_minor": 2
}
