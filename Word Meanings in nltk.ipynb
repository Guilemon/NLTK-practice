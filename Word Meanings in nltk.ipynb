{
 "cells": [
  {
   "cell_type": "code",
   "execution_count": 24,
   "metadata": {},
   "outputs": [
    {
     "name": "stdout",
     "output_type": "stream",
     "text": [
      "Synset('craft.n.05') shrewdness as demonstrated by being skilled in deception\n",
      "Synset('craftiness.n.02') the quality of being crafty\n",
      "Synset('trickery.n.02') the use of tricks to deceive someone (usually to extract money from them)\n",
      "\n",
      "\n",
      "\n",
      "Synset('practice.n.01') a customary way of operation or behavior\n",
      "Synset('exercise.n.03') systematic training by multiple repetitions\n",
      "Synset('practice.n.03') translating an idea into action\n",
      "Synset('practice.n.04') the exercise of a profession\n",
      "Synset('practice.n.05') knowledge of how something is usually done\n",
      "Synset('practice.v.01') carry out or practice; as of jobs and professions\n",
      "Synset('drill.v.03') learn by repetition\n",
      "Synset('rehearse.v.01') engage in a rehearsal (of)\n",
      "Synset('practice.v.04') avail oneself to\n",
      "Synset('commit.v.06') engage in or perform\n"
     ]
    }
   ],
   "source": [
    "from nltk.corpus import wordnet as wn\n",
    "for gmSyn in wn.synsets('guile'):\n",
    "    print(gmSyn, gmSyn.definition())\n",
    "\n",
    "print(\"\\n\\n\")\n",
    "\n",
    "for gm in wn.synsets('practice'):\n",
    "    print(gm,gm.definition())"
   ]
  },
  {
   "cell_type": "markdown",
   "metadata": {},
   "source": [
    "   # *using lesk as Word Sense Disambiguation*"
   ]
  },
  {
   "cell_type": "code",
   "execution_count": 21,
   "metadata": {},
   "outputs": [
    {
     "name": "stdout",
     "output_type": "stream",
     "text": [
      "Synset('trickery.n.02') the use of tricks to deceive someone (usually to extract money from them)\n"
     ]
    }
   ],
   "source": [
    "from nltk.wsd import lesk\n",
    "from nltk.tokenize import word_tokenize\n",
    "gmsent = lesk(word_tokenize('guilemon? - guile monster'),'guile')\n",
    "print(gmsent,gmsent.definition())"
   ]
  },
  {
   "cell_type": "code",
   "execution_count": 28,
   "metadata": {},
   "outputs": [
    {
     "name": "stdout",
     "output_type": "stream",
     "text": [
      "Sent tokenize Result:  Synset('rehearse.v.01') engage in a rehearsal (of) \n",
      "\n",
      "\n",
      "word tokenize result:  Synset('practice.v.04') avail oneself to \n",
      "\n",
      "\n",
      "Synset('perfect.v.01') make perfect or complete\n"
     ]
    }
   ],
   "source": [
    "from nltk.tokenize import sent_tokenize\n",
    "gmSent2 = lesk(sent_tokenize('practicing the practice to improvise your work'),'practice')\n",
    "print(\"Sent tokenize Result: \",gmSent2,gmSent2.definition(),\"\\n\\n\")\n",
    "\n",
    "gmSent3 = lesk(word_tokenize('practicing the practice to improvise your work'),'practice')\n",
    "print(\"word tokenize result: \", gmSent3,gmSent3.definition(),\"\\n\\n\")\n",
    "\n",
    "gmSe = lesk(word_tokenize('Practice makes all living beings perfect'),'perfect')\n",
    "print(gmSe, gmSe.definition())"
   ]
  }
 ],
 "metadata": {
  "kernelspec": {
   "display_name": "Python 3 (ipykernel)",
   "language": "python",
   "name": "python3"
  },
  "language_info": {
   "codemirror_mode": {
    "name": "ipython",
    "version": 3
   },
   "file_extension": ".py",
   "mimetype": "text/x-python",
   "name": "python",
   "nbconvert_exporter": "python",
   "pygments_lexer": "ipython3",
   "version": "3.9.12"
  }
 },
 "nbformat": 4,
 "nbformat_minor": 2
}
